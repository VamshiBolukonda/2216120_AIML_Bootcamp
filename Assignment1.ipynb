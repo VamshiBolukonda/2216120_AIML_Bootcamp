{
  "nbformat": 4,
  "nbformat_minor": 0,
  "metadata": {
    "colab": {
      "name": "Assignment1.ipynb",
      "provenance": [],
      "authorship_tag": "ABX9TyMzycKn14qFgrcSiCTFB3K1",
      "include_colab_link": true
    },
    "kernelspec": {
      "name": "python3",
      "display_name": "Python 3"
    },
    "language_info": {
      "name": "python"
    }
  },
  "cells": [
    {
      "cell_type": "markdown",
      "metadata": {
        "id": "view-in-github",
        "colab_type": "text"
      },
      "source": [
        "<a href=\"https://colab.research.google.com/github/VamshiBolukonda/2216120_AIML_Bootcamp/blob/main/Assignment1.ipynb\" target=\"_parent\"><img src=\"https://colab.research.google.com/assets/colab-badge.svg\" alt=\"Open In Colab\"/></a>"
      ]
    },
    {
      "cell_type": "code",
      "execution_count": 38,
      "metadata": {
        "colab": {
          "base_uri": "https://localhost:8080/"
        },
        "id": "wOjlRMAO-_0k",
        "outputId": "2cfa3d8a-7fb2-4d66-b5a9-9e9c5a4b313b"
      },
      "outputs": [
        {
          "output_type": "stream",
          "name": "stdout",
          "text": [
            "My name is vamshi bolukonda\n",
            "My Name Is Vamshi Bolukonda\n",
            "my name is vamshi bolukonda\n",
            "MY NAME IS VAMSHI BOLUKONDA\n",
            "mY NAME IS vAMSHI BOLUKONDA\n",
            "3\n",
            "True\n",
            "4\n",
            "True\n",
            "False\n",
            "False\n",
            "False\n",
            "False\n",
            "['Hello Everyone', 'I am Vamshi', 'I am attending Gradstellar Bootcamp']\n",
            "I am attending Gradstellar Bootcamp\n",
            "I am attending Gradstellar Bootcamp    \n",
            "   I am attending Gradstellar Bootcamp\n"
          ]
        }
      ],
      "source": [
        "#Implement the methods of String with examples.\n",
        "s1='My name is Vamshi bolukonda'\n",
        "print(s1.capitalize())\n",
        "print(s1.title())\n",
        "print(s1.lower())\n",
        "print(s1.upper())\n",
        "print(s1.swapcase())\n",
        "print(s1.count('a'))\n",
        "print(s1.endswith('a'))\n",
        "print(s1.find('a'))\n",
        "print(s1.isprintable())\n",
        "print(s1.startswith('m'))\n",
        "\n",
        "s2='Pincode is 506370'\n",
        "print(s2.isalnum())\n",
        "print(s2.isalpha())\n",
        "print(s2.isdigit())\n",
        "\n",
        "s3='''Hello Everyone\n",
        "I am Vamshi\n",
        "I am attending Gradstellar Bootcamp'''\n",
        "print(s3.splitlines())\n",
        "\n",
        "s4='   I am attending Gradstellar Bootcamp    '\n",
        "print(s4.strip())\n",
        "print(s4.lstrip())\n",
        "print(s4.rstrip())\n",
        "\n",
        "\n"
      ]
    },
    {
      "cell_type": "code",
      "source": [
        "#Implement the methods of List with examples.\n",
        "l1=[1,2,3,4]\n",
        "l1.append(5)\n",
        "print(l1)\n",
        "l2=l1.copy()\n",
        "print(l2)\n",
        "l1.append(5)\n",
        "print(l1)\n",
        "print(l1.count(5))\n",
        "l1.extend([5,6,7])\n",
        "print(l1)\n",
        "print(l1.index(5))\n",
        "l1.insert(1,1.5)\n",
        "print(l1)\n",
        "l1.pop(6)\n",
        "print(l1)\n",
        "l1.remove(5)\n",
        "print(l1)\n",
        "l3=[5,2,10,1,3,6.5,9]\n",
        "l3.sort()\n",
        "print(l3)\n",
        "l3.reverse()\n",
        "print(l3)\n",
        "l3.clear()\n",
        "print(l3)"
      ],
      "metadata": {
        "colab": {
          "base_uri": "https://localhost:8080/"
        },
        "id": "3mYpd2dgpxG7",
        "outputId": "3233bf3e-c0ff-4e52-b5fc-947864986c8f"
      },
      "execution_count": 39,
      "outputs": [
        {
          "output_type": "stream",
          "name": "stdout",
          "text": [
            "[1, 2, 3, 4, 5]\n",
            "[1, 2, 3, 4, 5]\n",
            "[1, 2, 3, 4, 5, 5]\n",
            "2\n",
            "[1, 2, 3, 4, 5, 5, 5, 6, 7]\n",
            "4\n",
            "[1, 1.5, 2, 3, 4, 5, 5, 5, 6, 7]\n",
            "[1, 1.5, 2, 3, 4, 5, 5, 6, 7]\n",
            "[1, 1.5, 2, 3, 4, 5, 6, 7]\n",
            "[1, 2, 3, 5, 6.5, 9, 10]\n",
            "[10, 9, 6.5, 5, 3, 2, 1]\n",
            "[]\n"
          ]
        }
      ]
    },
    {
      "cell_type": "code",
      "source": [
        "#Implement the methods of Tuple with examples.\n",
        "t=(1,5,10,5,26,56)\n",
        "#indexing\n",
        "print(t[2])\n",
        "print(t[-1])\n",
        "#slicing \n",
        "print(t[1:5])\n",
        "#methods\n",
        "print(min(t))\n",
        "print(max(t))\n",
        "print(t.index(5))\n",
        "print(t.count(5))"
      ],
      "metadata": {
        "colab": {
          "base_uri": "https://localhost:8080/"
        },
        "id": "GS19mT1ztf7E",
        "outputId": "ddafbd8b-21cc-40ac-c906-d762f38b5ea4"
      },
      "execution_count": 40,
      "outputs": [
        {
          "output_type": "stream",
          "name": "stdout",
          "text": [
            "10\n",
            "56\n",
            "(5, 10, 5, 26)\n",
            "1\n",
            "56\n",
            "1\n",
            "2\n"
          ]
        }
      ]
    },
    {
      "cell_type": "code",
      "source": [
        "#Implement the methods of Dictionary with examples.\n",
        "dic={'name':'vamshi','phno':1234567890,'add':'HNK','pin':506370,'clg':'SRU'}\n",
        "print(dic['name'])\n",
        "print(dic['phno'])\n",
        "print(dic['add'])\n",
        "print(dic['clg'])\n",
        "print(dic.keys())\n",
        "print(dic.values())\n",
        "print(dic.get('add'))"
      ],
      "metadata": {
        "colab": {
          "base_uri": "https://localhost:8080/"
        },
        "id": "bIQ-3xgdSxg-",
        "outputId": "e3c0fb03-8d3b-4a8b-b8e3-f632ea63e9cb"
      },
      "execution_count": 41,
      "outputs": [
        {
          "output_type": "stream",
          "name": "stdout",
          "text": [
            "vamshi\n",
            "1234567890\n",
            "HNK\n",
            "SRU\n",
            "dict_keys(['name', 'phno', 'add', 'pin', 'clg'])\n",
            "dict_values(['vamshi', 1234567890, 'HNK', 506370, 'SRU'])\n",
            "HNK\n"
          ]
        }
      ]
    },
    {
      "cell_type": "code",
      "source": [
        "#Implement the methods of Set with examples.\n",
        "s1={1,2,3}\n",
        "l=[1,2.0,'Hello',4+10j]#converting list to set\n",
        "s=set(l)\n",
        "print(s)\n",
        "s1.add(4)\n",
        "print(s1)\n",
        "s1.update([2,3,5])\n",
        "print(s1)\n",
        "s1.discard(5)\n",
        "print(s1)\n",
        "s1.remove(4)\n",
        "print(s1)\n",
        "a={1,2,3,4,5}\n",
        "b={4,5,6,7}\n",
        "#union\n",
        "print(a|b)\n",
        "print(a.union(b))\n",
        "print(b.union(a))\n",
        "#intersection\n",
        "print(a&b)\n",
        "print(a.intersection(b))\n",
        "print(b.intersection(a))\n",
        "#difference\n",
        "print(a-b)\n",
        "print(a.difference(b))\n",
        "print(b-a)\n",
        "print(b.difference(a))"
      ],
      "metadata": {
        "colab": {
          "base_uri": "https://localhost:8080/"
        },
        "id": "8RpARkgeUCCq",
        "outputId": "f90acbe6-5897-4afd-e619-e9e413370c06"
      },
      "execution_count": 42,
      "outputs": [
        {
          "output_type": "stream",
          "name": "stdout",
          "text": [
            "{(4+10j), 1, 2.0, 'Hello'}\n",
            "{1, 2, 3, 4}\n",
            "{1, 2, 3, 4, 5}\n",
            "{1, 2, 3, 4}\n",
            "{1, 2, 3}\n",
            "{1, 2, 3, 4, 5, 6, 7}\n",
            "{1, 2, 3, 4, 5, 6, 7}\n",
            "{1, 2, 3, 4, 5, 6, 7}\n",
            "{4, 5}\n",
            "{4, 5}\n",
            "{4, 5}\n",
            "{1, 2, 3}\n",
            "{1, 2, 3}\n",
            "{6, 7}\n",
            "{6, 7}\n"
          ]
        }
      ]
    },
    {
      "cell_type": "code",
      "source": [
        "#Write a python program to convert Decimal to Binary, Octal and Hexadecimal with direct method.\n",
        "a=int(input('Enter a decimal number :'))\n",
        "b=bin(a)\n",
        "c=oct(a)\n",
        "d=hex(a)\n",
        "print(b)\n",
        "print(c)\n",
        "print(d)\n"
      ],
      "metadata": {
        "colab": {
          "base_uri": "https://localhost:8080/"
        },
        "id": "Ev05_EY1HZ91",
        "outputId": "1e213e35-2d7f-4ae6-ee97-f0b839112236"
      },
      "execution_count": 43,
      "outputs": [
        {
          "output_type": "stream",
          "name": "stdout",
          "text": [
            "Enter a decimal number :26\n",
            "0b11010\n",
            "0o32\n",
            "0x1a\n"
          ]
        }
      ]
    },
    {
      "cell_type": "code",
      "source": [
        "#Implement Arithmetic operators with examples.\n",
        "x=5\n",
        "y=2\n",
        "print('Addition is:',x+y)\n",
        "print('Subtraction is:',x-y)\n",
        "print('Multiplication is:',x*y)\n",
        "print('Division is:',x/y)\n",
        "print('Remainder is:',x%y)\n",
        "print('Floor Division Result is:',x//y)\n",
        "print('Exponential Result is:',x**y)\n"
      ],
      "metadata": {
        "colab": {
          "base_uri": "https://localhost:8080/"
        },
        "id": "yUfygbAeJxI2",
        "outputId": "50119703-7d98-4c84-b7e4-a8b27a62ebe3"
      },
      "execution_count": 44,
      "outputs": [
        {
          "output_type": "stream",
          "name": "stdout",
          "text": [
            "Addition is: 7\n",
            "Subtraction is: 3\n",
            "Multiplication is: 10\n",
            "Division is: 2.5\n",
            "Remainder is: 1\n",
            "Floor Division Result is: 2\n",
            "Exponential Result is: 25\n"
          ]
        }
      ]
    },
    {
      "cell_type": "code",
      "source": [
        "#Implement Assignment operators with examples.\n",
        "a=5\n",
        "b=3\n",
        "a+=b\n",
        "print(a)\n",
        "a-=b\n",
        "print(a)\n",
        "a*=b\n",
        "print(a)\n",
        "a/=b\n",
        "print(a)\n",
        "a//b\n",
        "print(a)\n",
        "a%=b\n",
        "print(a)\n",
        "a**=b\n",
        "print(a)\n"
      ],
      "metadata": {
        "colab": {
          "base_uri": "https://localhost:8080/"
        },
        "id": "wl7L98ltLQa5",
        "outputId": "87d2bbeb-2b57-446c-f6b3-86456e8ec775"
      },
      "execution_count": 45,
      "outputs": [
        {
          "output_type": "stream",
          "name": "stdout",
          "text": [
            "8\n",
            "5\n",
            "15\n",
            "5.0\n",
            "5.0\n",
            "2.0\n",
            "8.0\n"
          ]
        }
      ]
    },
    {
      "cell_type": "code",
      "source": [
        "#Implement Comparison operators with examples.\n",
        "p=5\n",
        "q=3\n",
        "print(p==q)\n",
        "print(p!=q)\n",
        "print(p>=q)\n",
        "print(p<=q)\n",
        "print(p<q)\n",
        "print(p>q)\n"
      ],
      "metadata": {
        "colab": {
          "base_uri": "https://localhost:8080/"
        },
        "id": "SrNng69_jhFw",
        "outputId": "6cdd5948-b0a5-428c-b8ef-35c6a1291db0"
      },
      "execution_count": 46,
      "outputs": [
        {
          "output_type": "stream",
          "name": "stdout",
          "text": [
            "False\n",
            "True\n",
            "True\n",
            "False\n",
            "False\n",
            "True\n"
          ]
        }
      ]
    },
    {
      "cell_type": "code",
      "source": [
        "#Implement Logical operators with examples.\n",
        "a=5\n",
        "b=3\n",
        "c=6\n",
        "print(a>b and a>c)\n",
        "print(b>a or a>b)\n",
        "print(not a)"
      ],
      "metadata": {
        "colab": {
          "base_uri": "https://localhost:8080/"
        },
        "id": "ktxBi9A5kR0-",
        "outputId": "90006fe9-cde8-42eb-a9bc-eaa8ecb493fd"
      },
      "execution_count": 47,
      "outputs": [
        {
          "output_type": "stream",
          "name": "stdout",
          "text": [
            "False\n",
            "True\n",
            "False\n"
          ]
        }
      ]
    },
    {
      "cell_type": "code",
      "source": [
        "#Implement Bitwise operators with examples.\n",
        "a=25\n",
        "b=2\n",
        "print(~a)\n",
        "print(a^b)\n",
        "print(a>>b)\n",
        "print(a<<b)"
      ],
      "metadata": {
        "colab": {
          "base_uri": "https://localhost:8080/"
        },
        "id": "ZIr1IbjBlCtx",
        "outputId": "89616c03-8e1a-4af9-a5fb-1da59faad643"
      },
      "execution_count": 48,
      "outputs": [
        {
          "output_type": "stream",
          "name": "stdout",
          "text": [
            "-26\n",
            "27\n",
            "6\n",
            "100\n"
          ]
        }
      ]
    },
    {
      "cell_type": "code",
      "source": [
        "#Implement Membership operators with examples.\n",
        "s1='I am Indian'\n",
        "s2='India'\n",
        "s3='india'\n",
        "print(s2 in s1)\n",
        "print(s3 in s1)\n",
        "print(s3 not in s1)\n",
        "l1=[1,2.0,'India',4+6j]\n",
        "print(6 in l1)\n",
        "print(4+6j in l1)\n",
        "print(2.0 not in l1)\n",
        "print('india' not in l1)"
      ],
      "metadata": {
        "colab": {
          "base_uri": "https://localhost:8080/"
        },
        "id": "puZ12Tr4lxdb",
        "outputId": "f71ac226-fe30-4a50-f9d6-2993aff8467a"
      },
      "execution_count": 49,
      "outputs": [
        {
          "output_type": "stream",
          "name": "stdout",
          "text": [
            "True\n",
            "False\n",
            "True\n",
            "False\n",
            "True\n",
            "False\n",
            "True\n"
          ]
        }
      ]
    },
    {
      "cell_type": "code",
      "source": [
        "# Implement Identity operators with examples\n",
        "a=15\n",
        "b=20\n",
        "print(a is b)\n",
        "print(a is not b)"
      ],
      "metadata": {
        "colab": {
          "base_uri": "https://localhost:8080/"
        },
        "id": "HZyCv7BQnJEg",
        "outputId": "27f787e8-eb7b-40e5-f509-5ed3858dd999"
      },
      "execution_count": 50,
      "outputs": [
        {
          "output_type": "stream",
          "name": "stdout",
          "text": [
            "False\n",
            "True\n"
          ]
        }
      ]
    },
    {
      "cell_type": "code",
      "source": [
        "#Demonstrate Negative indexing for List and apply slicing.\n",
        "l1=[10,20,30,40,50,60,70]\n",
        "#negative indexing\n",
        "print(l1[-1])\n",
        "print(l1[-3])\n",
        "print(l1[-5])\n",
        "#slicing\n",
        "print(l1[:])\n",
        "print(l1[3:])\n",
        "print(l1[::-1])#reverse"
      ],
      "metadata": {
        "colab": {
          "base_uri": "https://localhost:8080/"
        },
        "id": "RU1FPZcbWVb1",
        "outputId": "61c48021-1c48-480d-96d7-24b335a26541"
      },
      "execution_count": 51,
      "outputs": [
        {
          "output_type": "stream",
          "name": "stdout",
          "text": [
            "70\n",
            "50\n",
            "30\n",
            "[10, 20, 30, 40, 50, 60, 70]\n",
            "[40, 50, 60, 70]\n",
            "[70, 60, 50, 40, 30, 20, 10]\n"
          ]
        }
      ]
    },
    {
      "cell_type": "code",
      "source": [
        "#Predict the output for the given code snippet and justify the result.\n",
        "print( 'A series of characters designated as one object known as a string'[::-1][4::3] )\n",
        "#[::-1] it is for reversing and [4::3] it starts from 4th index with step size as 3\n",
        "print(\"------------\")\n",
        "print( 'welcome to Python traing program'[3:10][::-1])\n",
        "#[3:10] it starts from 3rd index and stops at 10 th index and the it will reverse the string"
      ],
      "metadata": {
        "colab": {
          "base_uri": "https://localhost:8080/"
        },
        "id": "KG8dRVbpXduG",
        "outputId": "668c58f9-7f56-4f7b-a566-881a901189d7"
      },
      "execution_count": 53,
      "outputs": [
        {
          "output_type": "stream",
          "name": "stdout",
          "text": [
            "taawkcbe  tgestrcoeeA\n",
            "------------\n",
            "ot emoc\n"
          ]
        }
      ]
    },
    {
      "cell_type": "code",
      "source": [
        "#Write a python code to get desired output\n",
        "#p_phrase = \"was it a car or a cat I saw\"; Output string : WAS I TAC A RO RAC A TI SAW\n",
        "s=\"was it a car or a cat I saw\"\n",
        "s1=s.upper()\n",
        "print(s1[::-1])"
      ],
      "metadata": {
        "colab": {
          "base_uri": "https://localhost:8080/"
        },
        "id": "N-ftWbbnYPkd",
        "outputId": "4600e27a-4984-45dc-9a52-eb0fe80dc801"
      },
      "execution_count": 54,
      "outputs": [
        {
          "output_type": "stream",
          "name": "stdout",
          "text": [
            "WAS I TAC A RO RAC A TI SAW\n"
          ]
        }
      ]
    },
    {
      "cell_type": "code",
      "source": [
        "#You are required to generate a word similar to ZOO, X and Y that denote the number \n",
        "#of Zs and Os respectively. The generated word similar to ZOO where Y= 2 * X. \n",
        "x=int(input(\"Enter no. of Z's=\"))\n",
        "y=2*x\n",
        "print('x=',x,'y=',y)\n",
        "print('Z'*x,'O'*y,sep='')"
      ],
      "metadata": {
        "colab": {
          "base_uri": "https://localhost:8080/"
        },
        "id": "djpmy-8NZYen",
        "outputId": "d5af9a8e-9d88-4771-f60e-1b5a11f119c9"
      },
      "execution_count": 58,
      "outputs": [
        {
          "output_type": "stream",
          "name": "stdout",
          "text": [
            "Enter no. of Z's=5\n",
            "x= 5 y= 10\n",
            "ZZZZZOOOOOOOOOO\n"
          ]
        }
      ]
    }
  ]
}