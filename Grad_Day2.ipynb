{
  "nbformat": 4,
  "nbformat_minor": 0,
  "metadata": {
    "colab": {
      "name": "Grad-Day2.ipynb",
      "provenance": [],
      "authorship_tag": "ABX9TyOOJ/KSLmEXdv7Jq5lG/bg4",
      "include_colab_link": true
    },
    "kernelspec": {
      "name": "python3",
      "display_name": "Python 3"
    },
    "language_info": {
      "name": "python"
    }
  },
  "cells": [
    {
      "cell_type": "markdown",
      "metadata": {
        "id": "view-in-github",
        "colab_type": "text"
      },
      "source": [
        "<a href=\"https://colab.research.google.com/github/VamshiBolukonda/2216120_AIML_Bootcamp/blob/main/Grad_Day2.ipynb\" target=\"_parent\"><img src=\"https://colab.research.google.com/assets/colab-badge.svg\" alt=\"Open In Colab\"/></a>"
      ]
    },
    {
      "cell_type": "code",
      "source": [
        "#if statement\n",
        "var=100\n",
        "if var>0:\n",
        "  print(\"true\")\n",
        "  print(var)"
      ],
      "metadata": {
        "colab": {
          "base_uri": "https://localhost:8080/"
        },
        "id": "HXV9oZPUHYcV",
        "outputId": "9324ef88-18de-45c9-a716-a6ca0c170d75"
      },
      "execution_count": 104,
      "outputs": [
        {
          "output_type": "stream",
          "name": "stdout",
          "text": [
            "true\n",
            "100\n"
          ]
        }
      ]
    },
    {
      "cell_type": "code",
      "source": [
        "#if...else statement\n",
        "var2=-1\n",
        "if var2>0:\n",
        "  print(\"True\")\n",
        "  print(var2)\n",
        "else:\n",
        "  print(\"False\")\n",
        "  print(var2)"
      ],
      "metadata": {
        "colab": {
          "base_uri": "https://localhost:8080/"
        },
        "id": "xYcr3h0NIduQ",
        "outputId": "5401e840-091c-4e04-9446-533c273c6a7f"
      },
      "execution_count": 105,
      "outputs": [
        {
          "output_type": "stream",
          "name": "stdout",
          "text": [
            "False\n",
            "-1\n"
          ]
        }
      ]
    },
    {
      "cell_type": "code",
      "source": [
        "#nested if statements\n",
        "#bus tickets\n",
        "age=int(input(\"ENTER AGE\"))\n",
        "if age>12 and age<=18:\n",
        "  if age<15:\n",
        "    print(\"Quarter ticket implies\")\n",
        "  elif age==15:\n",
        "    print(\"quarter ticket+ discount\")\n",
        "  else:\n",
        "    print(\"Half ticket\")\n",
        "elif age>=19 and age<=60:\n",
        "  print(\"full ticket\")\n",
        "elif age>60:\n",
        "  print(\"Full ticket + discount\")\n",
        "else:\n",
        "  print(\"no ticket\")"
      ],
      "metadata": {
        "colab": {
          "base_uri": "https://localhost:8080/"
        },
        "id": "OidY8CyjImJ_",
        "outputId": "1deb83c8-8a84-49a6-ad41-3f7ad41e7a21"
      },
      "execution_count": 106,
      "outputs": [
        {
          "output_type": "stream",
          "name": "stdout",
          "text": [
            "ENTER AGE25\n",
            "full ticket\n"
          ]
        }
      ]
    },
    {
      "cell_type": "code",
      "source": [
        "#for loop\n",
        "number=[6,5,3,8,4,2,5,4,11]\n",
        "sum=0\n",
        "for val in number:\n",
        "  sum=sum+val\n",
        "print(\"the sum is\",sum)\n",
        "print(\"\\n\")\n",
        "for i in range(1,11):\n",
        "  print(i)"
      ],
      "metadata": {
        "colab": {
          "base_uri": "https://localhost:8080/"
        },
        "id": "Xbj6hcSMI-bl",
        "outputId": "d019746e-7a2e-4a02-c6d1-82b2e1d685d2"
      },
      "execution_count": 107,
      "outputs": [
        {
          "output_type": "stream",
          "name": "stdout",
          "text": [
            "the sum is 48\n",
            "\n",
            "\n",
            "1\n",
            "2\n",
            "3\n",
            "4\n",
            "5\n",
            "6\n",
            "7\n",
            "8\n",
            "9\n",
            "10\n"
          ]
        }
      ]
    },
    {
      "cell_type": "code",
      "source": [
        "for i in range(1,11,2):\n",
        "  print(i)"
      ],
      "metadata": {
        "colab": {
          "base_uri": "https://localhost:8080/"
        },
        "id": "s0HoPKZKJQE2",
        "outputId": "64f52ba4-d426-4f61-cb0e-49dc4d13e933"
      },
      "execution_count": 108,
      "outputs": [
        {
          "output_type": "stream",
          "name": "stdout",
          "text": [
            "1\n",
            "3\n",
            "5\n",
            "7\n",
            "9\n"
          ]
        }
      ]
    },
    {
      "cell_type": "code",
      "source": [
        "x=[2,3,4,5,6,7,8]\n",
        "y=[]\n",
        "for a in x:\n",
        "  if a%2==0:\n",
        "    y.append(a)\n",
        "print(y)"
      ],
      "metadata": {
        "colab": {
          "base_uri": "https://localhost:8080/"
        },
        "id": "uhpC4_alJabg",
        "outputId": "215f383f-5c2a-4e50-d63d-538b52fdfc9e"
      },
      "execution_count": 109,
      "outputs": [
        {
          "output_type": "stream",
          "name": "stdout",
          "text": [
            "[2, 4, 6, 8]\n"
          ]
        }
      ]
    },
    {
      "cell_type": "code",
      "source": [
        "#using statements in for loop\n",
        "digits=[0,1,5]\n",
        "for i in digits:\n",
        "  print(i)\n",
        "else:\n",
        "  print(\"no items left\")\n",
        "for l in \"python\":\n",
        "  print(\"Current letter:\",l)"
      ],
      "metadata": {
        "colab": {
          "base_uri": "https://localhost:8080/"
        },
        "id": "wTSCH4NpJnEH",
        "outputId": "8f857d12-d39d-4e90-83c0-5392e7828aed"
      },
      "execution_count": 110,
      "outputs": [
        {
          "output_type": "stream",
          "name": "stdout",
          "text": [
            "0\n",
            "1\n",
            "5\n",
            "no items left\n",
            "Current letter: p\n",
            "Current letter: y\n",
            "Current letter: t\n",
            "Current letter: h\n",
            "Current letter: o\n",
            "Current letter: n\n"
          ]
        }
      ]
    },
    {
      "cell_type": "code",
      "source": [
        "#iterating by sequence indexing\n",
        "fruit=['apple','banana','grapes']\n",
        "for index in range(len(fruit)):\n",
        "  print('current fruit:',fruit[index])"
      ],
      "metadata": {
        "colab": {
          "base_uri": "https://localhost:8080/"
        },
        "id": "ZNrXUDkUJ27l",
        "outputId": "5c54a53f-7ce7-4e3a-ffff-3f89527ae336"
      },
      "execution_count": 111,
      "outputs": [
        {
          "output_type": "stream",
          "name": "stdout",
          "text": [
            "current fruit: apple\n",
            "current fruit: banana\n",
            "current fruit: grapes\n"
          ]
        }
      ]
    },
    {
      "cell_type": "code",
      "source": [
        "#while\n",
        "count=0\n",
        "while(count<11):\n",
        "  print('the count is',count)\n",
        "  count=count+1\n",
        "\n",
        "count=0\n",
        "while(count<5):\n",
        "  print(count,\"is less than 5\")\n",
        "  count=count+1\n",
        "else:\n",
        "  print(count,\"is not less than 5\")"
      ],
      "metadata": {
        "colab": {
          "base_uri": "https://localhost:8080/"
        },
        "id": "gfef8kZNKHJW",
        "outputId": "3c9965d8-72d1-47c0-b1f9-995241c62ad4"
      },
      "execution_count": 112,
      "outputs": [
        {
          "output_type": "stream",
          "name": "stdout",
          "text": [
            "the count is 0\n",
            "the count is 1\n",
            "the count is 2\n",
            "the count is 3\n",
            "the count is 4\n",
            "the count is 5\n",
            "the count is 6\n",
            "the count is 7\n",
            "the count is 8\n",
            "the count is 9\n",
            "the count is 10\n",
            "0 is less than 5\n",
            "1 is less than 5\n",
            "2 is less than 5\n",
            "3 is less than 5\n",
            "4 is less than 5\n",
            "5 is not less than 5\n"
          ]
        }
      ]
    },
    {
      "cell_type": "code",
      "source": [
        "#nested loops\n",
        "#Addition of Matrices\n",
        "x=[[5,8,1],\n",
        "   [7,4,9],\n",
        "   [2,6,1]]\n",
        "y=[[4,9,6],[1,9,8],[2,4,6]]\n",
        "res=[[0,0,0],[0,0,0],[0,0,0]]\n",
        "for i in range(len(x)):#iterate through rows #no. of rows=len(x)=3\n",
        "  for j in range(len(x[0])):#iterate through columns #no. of columns=len(x[0])=3\n",
        "    res[i][j]=x[i][j]+y[i][j]\n",
        "for p in res:\n",
        "    print(p)\n"
      ],
      "metadata": {
        "colab": {
          "base_uri": "https://localhost:8080/"
        },
        "id": "ASOeblYTHLSE",
        "outputId": "512b880b-d04a-4c6d-cb6c-07e62c001044"
      },
      "execution_count": 113,
      "outputs": [
        {
          "output_type": "stream",
          "name": "stdout",
          "text": [
            "[9, 17, 7]\n",
            "[8, 13, 17]\n",
            "[4, 10, 7]\n"
          ]
        }
      ]
    },
    {
      "cell_type": "code",
      "source": [
        "#nested loops\n",
        "#Subtraction of Matrices\n",
        "x=[[5,8,1],\n",
        "   [7,4,9],\n",
        "   [2,6,1]]\n",
        "y=[[4,9,6],[1,9,8],[2,4,6]]\n",
        "res=[[0,0,0],[0,0,0],[0,0,0]]\n",
        "for i in range(len(x)):#iterate through rows #no. of rows=len(x)=3\n",
        "  for j in range(len(x[0])):#iterate through columns #no. of columns=len(x[0])=3\n",
        "    res[i][j]=x[i][j]-y[i][j]\n",
        "for p in res:\n",
        "    print(p)\n"
      ],
      "metadata": {
        "colab": {
          "base_uri": "https://localhost:8080/"
        },
        "id": "dKwQcJw_wisD",
        "outputId": "aa75deea-c765-482a-86c0-54d623a90165"
      },
      "execution_count": null,
      "outputs": [
        {
          "output_type": "stream",
          "name": "stdout",
          "text": [
            "[1, -1, -5]\n",
            "[6, -5, 1]\n",
            "[0, 2, -5]\n"
          ]
        }
      ]
    },
    {
      "cell_type": "code",
      "source": [
        "#Printing Tables\n",
        "n=int(input(\"Enter till where you want to print:\"))\n",
        "i=1\n",
        "while(i<=n):\n",
        "  j=1\n",
        "  while(j<=10):\n",
        "    print(f\"{i}*{j}={i*j}\")#rawstring\n",
        "    j=j+1\n",
        "  print(\"---------------\")\n",
        "  i=i+1"
      ],
      "metadata": {
        "colab": {
          "base_uri": "https://localhost:8080/"
        },
        "id": "RXVxI1vnucDI",
        "outputId": "0bf93944-8469-419b-c7e2-f4da63064b98"
      },
      "execution_count": null,
      "outputs": [
        {
          "output_type": "stream",
          "name": "stdout",
          "text": [
            "Enter till where you want to print:5\n",
            "1*1=1\n",
            "1*2=2\n",
            "1*3=3\n",
            "1*4=4\n",
            "1*5=5\n",
            "1*6=6\n",
            "1*7=7\n",
            "1*8=8\n",
            "1*9=9\n",
            "1*10=10\n",
            "---------------\n",
            "2*1=2\n",
            "2*2=4\n",
            "2*3=6\n",
            "2*4=8\n",
            "2*5=10\n",
            "2*6=12\n",
            "2*7=14\n",
            "2*8=16\n",
            "2*9=18\n",
            "2*10=20\n",
            "---------------\n",
            "3*1=3\n",
            "3*2=6\n",
            "3*3=9\n",
            "3*4=12\n",
            "3*5=15\n",
            "3*6=18\n",
            "3*7=21\n",
            "3*8=24\n",
            "3*9=27\n",
            "3*10=30\n",
            "---------------\n",
            "4*1=4\n",
            "4*2=8\n",
            "4*3=12\n",
            "4*4=16\n",
            "4*5=20\n",
            "4*6=24\n",
            "4*7=28\n",
            "4*8=32\n",
            "4*9=36\n",
            "4*10=40\n",
            "---------------\n",
            "5*1=5\n",
            "5*2=10\n",
            "5*3=15\n",
            "5*4=20\n",
            "5*5=25\n",
            "5*6=30\n",
            "5*7=35\n",
            "5*8=40\n",
            "5*9=45\n",
            "5*10=50\n",
            "---------------\n"
          ]
        }
      ]
    },
    {
      "cell_type": "code",
      "source": [
        "#Control Statements\n",
        "#break\n",
        "for l in 'python':\n",
        "  if l=='h':\n",
        "    break\n",
        "  print('Current Letter is:',l)\n",
        "\n",
        "int1=10\n",
        "while(int1>0):\n",
        "  print(\"current value:\",int1)\n",
        "  int1=int1-1\n",
        "  if int1==5:\n",
        "    break"
      ],
      "metadata": {
        "colab": {
          "base_uri": "https://localhost:8080/"
        },
        "id": "xsmn3SLw3NrN",
        "outputId": "c012d199-628d-46d6-f0a2-6837936bb936"
      },
      "execution_count": 114,
      "outputs": [
        {
          "output_type": "stream",
          "name": "stdout",
          "text": [
            "Current Letter is: p\n",
            "Current Letter is: y\n",
            "Current Letter is: t\n",
            "current value: 10\n",
            "current value: 9\n",
            "current value: 8\n",
            "current value: 7\n",
            "current value: 6\n"
          ]
        }
      ]
    },
    {
      "cell_type": "code",
      "source": [
        "#continue\n",
        "for l in 'Python':\n",
        "  if l == 'h':\n",
        "    continue\n",
        "  print(\"Current letter:\",l)\n",
        "\n",
        "\n",
        "int1=10\n",
        "while(int1>0):\n",
        "  print(\"current value:\",int1)\n",
        "  int1=int1-1\n",
        "  if int1==5:\n",
        "    continue"
      ],
      "metadata": {
        "colab": {
          "base_uri": "https://localhost:8080/"
        },
        "id": "EbWCJ3V_KrdI",
        "outputId": "8fe03313-d052-40ff-dd4e-161880dad0c4"
      },
      "execution_count": 115,
      "outputs": [
        {
          "output_type": "stream",
          "name": "stdout",
          "text": [
            "Current letter: P\n",
            "Current letter: y\n",
            "Current letter: t\n",
            "Current letter: o\n",
            "Current letter: n\n",
            "current value: 10\n",
            "current value: 9\n",
            "current value: 8\n",
            "current value: 7\n",
            "current value: 6\n",
            "current value: 5\n",
            "current value: 4\n",
            "current value: 3\n",
            "current value: 2\n",
            "current value: 1\n"
          ]
        }
      ]
    },
    {
      "cell_type": "code",
      "source": [
        "#pass\n",
        "for l in 'Python':\n",
        "  if l == 'h':\n",
        "    pass\n",
        "  print(\"Current letter:\",l)\n",
        "\n",
        "int1=10\n",
        "while(int1>0):\n",
        "  print(\"current value:\",int1)\n",
        "  int1=int1-1\n",
        "  if int1==5:\n",
        "    print(\"this is pass block\")"
      ],
      "metadata": {
        "colab": {
          "base_uri": "https://localhost:8080/"
        },
        "id": "7vPa7HgSLQxW",
        "outputId": "c8750c8b-a18c-4413-feb5-bea8fd396101"
      },
      "execution_count": 116,
      "outputs": [
        {
          "output_type": "stream",
          "name": "stdout",
          "text": [
            "Current letter: P\n",
            "Current letter: y\n",
            "Current letter: t\n",
            "Current letter: h\n",
            "Current letter: o\n",
            "Current letter: n\n",
            "current value: 10\n",
            "current value: 9\n",
            "current value: 8\n",
            "current value: 7\n",
            "current value: 6\n",
            "this is pass block\n",
            "current value: 5\n",
            "current value: 4\n",
            "current value: 3\n",
            "current value: 2\n",
            "current value: 1\n"
          ]
        }
      ]
    },
    {
      "cell_type": "code",
      "source": [
        "#user defined funtions\n",
        "def greet(name):\n",
        "  '''this function greets a person'''\n",
        "  print(\"Hello,\\t\"+name+\"\\tGood Morning\")\n",
        "greet(\"Vamshi\")"
      ],
      "metadata": {
        "colab": {
          "base_uri": "https://localhost:8080/"
        },
        "id": "-ohINde5LoiO",
        "outputId": "d25c41c0-0fc1-4985-ece0-abb41a0343fd"
      },
      "execution_count": 117,
      "outputs": [
        {
          "output_type": "stream",
          "name": "stdout",
          "text": [
            "Hello,\tVamshi\tGood Morning\n"
          ]
        }
      ]
    },
    {
      "cell_type": "code",
      "source": [
        "#default\n",
        "def A(a,b=1,c=2):\n",
        "  return a+b+c\n",
        "print(A(3))\n",
        "print(A(4,4,4))\n",
        "print(A(2,2))"
      ],
      "metadata": {
        "colab": {
          "base_uri": "https://localhost:8080/"
        },
        "id": "UxyOulPcL0q_",
        "outputId": "dd16acab-ad85-4c85-f792-67e7dfa1e287"
      },
      "execution_count": 118,
      "outputs": [
        {
          "output_type": "stream",
          "name": "stdout",
          "text": [
            "6\n",
            "12\n",
            "6\n"
          ]
        }
      ]
    },
    {
      "cell_type": "code",
      "source": [
        "#keyword\n",
        "def A(a,b=1,c=2):\n",
        "  return a+b+c\n",
        "print(A(a=2,b=3))\n",
        "print(A(c=3,b=2,a=1))"
      ],
      "metadata": {
        "colab": {
          "base_uri": "https://localhost:8080/"
        },
        "id": "FDAkXV_pL8Qd",
        "outputId": "ff20e4a2-b300-41e2-eb04-6eddaa2274f7"
      },
      "execution_count": 119,
      "outputs": [
        {
          "output_type": "stream",
          "name": "stdout",
          "text": [
            "7\n",
            "6\n"
          ]
        }
      ]
    },
    {
      "cell_type": "code",
      "source": [
        "#positional\n",
        "def add(a,b,c):\n",
        "  return a+b+c\n",
        "print(add(10,20,30))\n",
        "print(add(10,b=20,c=30))\n"
      ],
      "metadata": {
        "colab": {
          "base_uri": "https://localhost:8080/"
        },
        "id": "nZL_DvRlMBZv",
        "outputId": "11852b48-c27a-4dc9-bb19-77e28ead41b3"
      },
      "execution_count": 120,
      "outputs": [
        {
          "output_type": "stream",
          "name": "stdout",
          "text": [
            "60\n",
            "60\n"
          ]
        }
      ]
    },
    {
      "cell_type": "code",
      "source": [
        "#arbitrary keyword\n",
        "def key_arg(**kwargs):\n",
        "  return kwargs\n",
        "my_dict=key_arg(Apples=10,Oranges=20,Grapes=30)\n",
        "print(my_dict['Apples'])\n",
        "print(my_dict)"
      ],
      "metadata": {
        "colab": {
          "base_uri": "https://localhost:8080/"
        },
        "id": "zsgvR6BdMHFY",
        "outputId": "1cad6a2c-69ba-4b68-8ac5-45cfde44bd34"
      },
      "execution_count": 121,
      "outputs": [
        {
          "output_type": "stream",
          "name": "stdout",
          "text": [
            "10\n",
            "{'Apples': 10, 'Oranges': 20, 'Grapes': 30}\n"
          ]
        }
      ]
    },
    {
      "cell_type": "code",
      "source": [
        "#arbitrary positional\n",
        "def add_num(*n):\n",
        "  print(n)\n",
        "  print(sum(n))\n",
        "add_num(5,11)"
      ],
      "metadata": {
        "colab": {
          "base_uri": "https://localhost:8080/",
          "height": 321
        },
        "id": "muNG6pHPMNCK",
        "outputId": "3447239a-e550-4175-a4d3-22b94fcf6d75"
      },
      "execution_count": 123,
      "outputs": [
        {
          "output_type": "stream",
          "name": "stdout",
          "text": [
            "(5, 11)\n"
          ]
        },
        {
          "output_type": "error",
          "ename": "TypeError",
          "evalue": "ignored",
          "traceback": [
            "\u001b[0;31m---------------------------------------------------------------------------\u001b[0m",
            "\u001b[0;31mTypeError\u001b[0m                                 Traceback (most recent call last)",
            "\u001b[0;32m<ipython-input-123-43a695fe0fcc>\u001b[0m in \u001b[0;36m<module>\u001b[0;34m()\u001b[0m\n\u001b[1;32m      3\u001b[0m   \u001b[0mprint\u001b[0m\u001b[0;34m(\u001b[0m\u001b[0mn\u001b[0m\u001b[0;34m)\u001b[0m\u001b[0;34m\u001b[0m\u001b[0;34m\u001b[0m\u001b[0m\n\u001b[1;32m      4\u001b[0m   \u001b[0mprint\u001b[0m\u001b[0;34m(\u001b[0m\u001b[0msum\u001b[0m\u001b[0;34m(\u001b[0m\u001b[0mn\u001b[0m\u001b[0;34m)\u001b[0m\u001b[0;34m)\u001b[0m\u001b[0;34m\u001b[0m\u001b[0;34m\u001b[0m\u001b[0m\n\u001b[0;32m----> 5\u001b[0;31m \u001b[0madd_num\u001b[0m\u001b[0;34m(\u001b[0m\u001b[0;36m5\u001b[0m\u001b[0;34m,\u001b[0m\u001b[0;36m11\u001b[0m\u001b[0;34m)\u001b[0m\u001b[0;34m\u001b[0m\u001b[0;34m\u001b[0m\u001b[0m\n\u001b[0m",
            "\u001b[0;32m<ipython-input-123-43a695fe0fcc>\u001b[0m in \u001b[0;36madd_num\u001b[0;34m(*n)\u001b[0m\n\u001b[1;32m      2\u001b[0m \u001b[0;32mdef\u001b[0m \u001b[0madd_num\u001b[0m\u001b[0;34m(\u001b[0m\u001b[0;34m*\u001b[0m\u001b[0mn\u001b[0m\u001b[0;34m)\u001b[0m\u001b[0;34m:\u001b[0m\u001b[0;34m\u001b[0m\u001b[0;34m\u001b[0m\u001b[0m\n\u001b[1;32m      3\u001b[0m   \u001b[0mprint\u001b[0m\u001b[0;34m(\u001b[0m\u001b[0mn\u001b[0m\u001b[0;34m)\u001b[0m\u001b[0;34m\u001b[0m\u001b[0;34m\u001b[0m\u001b[0m\n\u001b[0;32m----> 4\u001b[0;31m   \u001b[0mprint\u001b[0m\u001b[0;34m(\u001b[0m\u001b[0msum\u001b[0m\u001b[0;34m(\u001b[0m\u001b[0mn\u001b[0m\u001b[0;34m)\u001b[0m\u001b[0;34m)\u001b[0m\u001b[0;34m\u001b[0m\u001b[0;34m\u001b[0m\u001b[0m\n\u001b[0m\u001b[1;32m      5\u001b[0m \u001b[0madd_num\u001b[0m\u001b[0;34m(\u001b[0m\u001b[0;36m5\u001b[0m\u001b[0;34m,\u001b[0m\u001b[0;36m11\u001b[0m\u001b[0;34m)\u001b[0m\u001b[0;34m\u001b[0m\u001b[0;34m\u001b[0m\u001b[0m\n",
            "\u001b[0;31mTypeError\u001b[0m: 'int' object is not callable"
          ]
        }
      ]
    },
    {
      "cell_type": "code",
      "source": [
        "s=input(\"Enter a string:\")\n",
        "if(s==s[::-1]):\n",
        "  print(s,'is a Pallindrome')\n",
        "else:\n",
        "  print(s,'is not a Pallindrome')"
      ],
      "metadata": {
        "colab": {
          "base_uri": "https://localhost:8080/"
        },
        "id": "dCy_4Nw75Mh9",
        "outputId": "a7f52bcf-fcd2-4998-8dfb-acdc152ca8ca"
      },
      "execution_count": null,
      "outputs": [
        {
          "output_type": "stream",
          "name": "stdout",
          "text": [
            "Enter a string:hi\n",
            "hi is not a Pallindrome\n"
          ]
        }
      ]
    },
    {
      "cell_type": "code",
      "source": [
        "l=[]\n",
        "for i in range(1,100):\n",
        "  if(i%11==0):\n",
        "    l.append(i)\n",
        "print(l)"
      ],
      "metadata": {
        "colab": {
          "base_uri": "https://localhost:8080/"
        },
        "id": "ZHsxOqj8671x",
        "outputId": "8b3ed5ef-0221-4a44-86d6-df1a6a5c681a"
      },
      "execution_count": null,
      "outputs": [
        {
          "output_type": "stream",
          "name": "stdout",
          "text": [
            "[11, 22, 33, 44, 55, 66, 77, 88, 99]\n"
          ]
        }
      ]
    },
    {
      "cell_type": "code",
      "source": [
        "for i in range(1,100):\n",
        "  str1=str(i)\n",
        "  if(str1==str1[::-1]):\n",
        "    print(i,\"is Pallindrome\")"
      ],
      "metadata": {
        "colab": {
          "base_uri": "https://localhost:8080/"
        },
        "id": "UqIPfvc089yF",
        "outputId": "efc64072-21c6-4c6a-8236-01d47c5952b7"
      },
      "execution_count": null,
      "outputs": [
        {
          "output_type": "stream",
          "name": "stdout",
          "text": [
            "1 is Pallindrome\n",
            "2 is Pallindrome\n",
            "3 is Pallindrome\n",
            "4 is Pallindrome\n",
            "5 is Pallindrome\n",
            "6 is Pallindrome\n",
            "7 is Pallindrome\n",
            "8 is Pallindrome\n",
            "9 is Pallindrome\n",
            "11 is Pallindrome\n",
            "22 is Pallindrome\n",
            "33 is Pallindrome\n",
            "44 is Pallindrome\n",
            "55 is Pallindrome\n",
            "66 is Pallindrome\n",
            "77 is Pallindrome\n",
            "88 is Pallindrome\n",
            "99 is Pallindrome\n"
          ]
        }
      ]
    },
    {
      "cell_type": "code",
      "source": [
        "l=[10,15,20,89,76,65,26,86,68,78]\n",
        "e=[]\n",
        "for i in l:\n",
        "  if (i%2==0):\n",
        "    e.append(i)\n",
        "print(e)"
      ],
      "metadata": {
        "colab": {
          "base_uri": "https://localhost:8080/"
        },
        "id": "zBGjBnDB9-wr",
        "outputId": "746e1d8a-1a49-4e88-8a9a-c78b8d823ffc"
      },
      "execution_count": null,
      "outputs": [
        {
          "output_type": "stream",
          "name": "stdout",
          "text": [
            "[10, 20, 76, 26, 86, 68, 78]\n"
          ]
        }
      ]
    },
    {
      "cell_type": "code",
      "source": [
        "#Write a python program that generates desired output i.e, from countries list select out the country names that contain string “and”\n",
        "#Countries_list=[“Finland”,”Germany”,”Sweden”,”Ireland”,”Turkey”]\n",
        "#Output: [“Finland”,”Ireland”]\n",
        "Countries_list=['Finland','Germany','Sweden','Ireland','Turkey']\n",
        "l=[]\n",
        "for i in Countries_list:\n",
        "  if(\"and\" in i):\n",
        "    l.append(i)\n",
        "print(l)"
      ],
      "metadata": {
        "colab": {
          "base_uri": "https://localhost:8080/"
        },
        "id": "b-WF2ivS-9eX",
        "outputId": "1c37a447-9553-4341-cc50-67adaa7b4536"
      },
      "execution_count": null,
      "outputs": [
        {
          "output_type": "stream",
          "name": "stdout",
          "text": [
            "['Finland', 'Ireland']\n"
          ]
        }
      ]
    },
    {
      "cell_type": "code",
      "source": [
        "#Write a python program that print respective grades of student:\n",
        "#Grade – Outstanding  for marks>=90\n",
        "#Grade A+ for marks >=80, <90\n",
        "#Grade A for marks >=70, <80\n",
        "#Grade B for marks >=60 and <70\n",
        "#<60 Grade C\n",
        "marks=int(input(\"Enter Marks:\"))\n",
        "if(marks>=90):\n",
        "  print(\"Outstanding\")\n",
        "elif(marks<90 and marks>=80):\n",
        "  print(\"A+\")\n",
        "elif(marks<80 and marks>=70):\n",
        "  print(\"A\")\n",
        "elif(marks<70 and marks>=60):\n",
        "  print(\"B\")\n",
        "else:\n",
        "  print(\"C\")"
      ],
      "metadata": {
        "colab": {
          "base_uri": "https://localhost:8080/"
        },
        "id": "_AqAQB7WBhX6",
        "outputId": "3cacc66c-a84a-4784-f29d-43a665201609"
      },
      "execution_count": null,
      "outputs": [
        {
          "output_type": "stream",
          "name": "stdout",
          "text": [
            "Enter Marks:91\n",
            "Outstanding\n"
          ]
        }
      ]
    },
    {
      "cell_type": "code",
      "source": [
        "#Create a list with name state list with 5 elements\n",
        "#State_list = [“Delhi”,”Telangana”,”Goa”,”AP”,”Kerala”]\n",
        "#Write a python program that extract first and last characters of each item and print in desired format.\n",
        "#Input: [“Delhi”,”Telangana”,”Goa”,”AP”,”Kerala”]\n",
        "#Output: dItAgAaOkA\n",
        "State_list=['Delhi','Telangana','Goa','AP','Kerala']\n",
        "l=[]\n",
        "for i in State_list:\n",
        "  l.append(i[0])\n",
        "  l.append(i[len(i)-1])\n",
        "print(l)\n",
        "str=\"\".join(l)\n",
        "print(str)\n",
        "str=str.swapcase()\n",
        "print(str)\n",
        "\n"
      ],
      "metadata": {
        "colab": {
          "base_uri": "https://localhost:8080/"
        },
        "id": "YpgQe3zGE90F",
        "outputId": "ccecb308-2e19-4a55-b620-fbbfe4e96e8a"
      },
      "execution_count": null,
      "outputs": [
        {
          "output_type": "stream",
          "name": "stdout",
          "text": [
            "['D', 'i', 'T', 'a', 'G', 'a', 'A', 'P', 'K', 'a']\n",
            "DiTaGaAPKa\n",
            "dItAgAapkA\n"
          ]
        }
      ]
    },
    {
      "cell_type": "code",
      "source": [
        "State_list=['Delhi','Telangana','Goa','AP','Kerala']\n",
        "str=\"\"\n",
        "for i in State_list:\n",
        "  str+=i[0].lower()+i[-1].upper()\n",
        "print(str)"
      ],
      "metadata": {
        "colab": {
          "base_uri": "https://localhost:8080/"
        },
        "id": "tIIFrMdiHdTi",
        "outputId": "90cc7c9e-84d7-4cca-b15d-df3a26e80d23"
      },
      "execution_count": null,
      "outputs": [
        {
          "output_type": "stream",
          "name": "stdout",
          "text": [
            "dItAgAaPkA\n"
          ]
        }
      ]
    },
    {
      "cell_type": "code",
      "source": [
        "#higher order functions\n",
        "def shout(text):\n",
        "  return text.upper()\n",
        "def whisper(text):\n",
        "  return text.lower()\n",
        "def explain(func):\n",
        "  greet=func(\"I am high order function\")\n",
        "  print(greet)\n",
        "explain(shout)\n",
        "explain(whisper)"
      ],
      "metadata": {
        "id": "cCnvRD-TG7HC",
        "colab": {
          "base_uri": "https://localhost:8080/"
        },
        "outputId": "0dddea01-40b9-4ef4-845e-dbe15f1827a9"
      },
      "execution_count": null,
      "outputs": [
        {
          "output_type": "stream",
          "name": "stdout",
          "text": [
            "I AM HIGH ORDER FUNCTION\n",
            "i am high order function\n"
          ]
        }
      ]
    },
    {
      "cell_type": "code",
      "source": [
        "#lambda function\n",
        "def incr(x):\n",
        "  x=x+1\n",
        "  return x\n",
        "print(incr(4))\n",
        "\n",
        "print((lambda x:x+1)(4))\n",
        "\n",
        "res=lambda x:x+1\n",
        "print(res(4))\n",
        "\n",
        "\n",
        "print((lambda x,y:x**y)(2,2))\n",
        "print((lambda x,y:x+y)(2,3))\n",
        "res=lambda x,y:x+y\n",
        "print(res(2,3))\n"
      ],
      "metadata": {
        "colab": {
          "base_uri": "https://localhost:8080/"
        },
        "id": "yf39xOXegAMc",
        "outputId": "5e8bd900-7c18-42cd-da9d-86004424c75f"
      },
      "execution_count": 124,
      "outputs": [
        {
          "output_type": "stream",
          "name": "stdout",
          "text": [
            "5\n",
            "5\n",
            "5\n",
            "4\n",
            "5\n",
            "5\n"
          ]
        }
      ]
    },
    {
      "cell_type": "code",
      "source": [
        "li=[1,2,3,4,5]\n",
        "#res=lambda x:x+2\n",
        "#print(res(li))\n",
        "def inc(num):\n",
        "  return num+2\n",
        "res_list=list(map(inc,li))\n",
        "print(res_list)\n",
        "res_list1=list(map(lambda x:x+2,li))\n",
        "print(res_list1)"
      ],
      "metadata": {
        "colab": {
          "base_uri": "https://localhost:8080/"
        },
        "id": "9MReISXyMqAD",
        "outputId": "351c10ec-2297-42bb-e3e1-7655bbe11686"
      },
      "execution_count": 127,
      "outputs": [
        {
          "output_type": "stream",
          "name": "stdout",
          "text": [
            "[3, 4, 5, 6, 7]\n",
            "[3, 4, 5, 6, 7]\n"
          ]
        }
      ]
    },
    {
      "cell_type": "code",
      "source": [
        "#filter\n",
        "def odd_num(n):\n",
        "  if n%2!=0:\n",
        "    return n\n",
        "my_list=[9,26,35,-2,50]\n",
        "print(list(filter(odd_num,my_list)))\n",
        "\n",
        "\n",
        "my_list1=[18,94,33,16,99,22,56,107,34]\n",
        "temp=list(filter(lambda x:x%2==0,my_list1))\n",
        "print(temp)"
      ],
      "metadata": {
        "colab": {
          "base_uri": "https://localhost:8080/"
        },
        "id": "y8sKxZPtNJJ3",
        "outputId": "78dce0ae-be49-44ad-a8e8-108182c488cb"
      },
      "execution_count": 128,
      "outputs": [
        {
          "output_type": "stream",
          "name": "stdout",
          "text": [
            "[9, 35]\n",
            "[18, 94, 16, 22, 56, 34]\n"
          ]
        }
      ]
    },
    {
      "cell_type": "code",
      "source": [
        "def eor(num):\n",
        "  if num%2==0:\n",
        "    return \"the number {} is even\".format(num)\n",
        "  else:\n",
        "    return \"the number {} is odd\".format(num)\n",
        "print(eor(20))\n",
        "\n",
        "l=[1,2,3,4,5,6,7,8,9,10]\n",
        "list(map(eor,l))"
      ],
      "metadata": {
        "colab": {
          "base_uri": "https://localhost:8080/"
        },
        "id": "YL909OImiiFq",
        "outputId": "4b511a98-1ac8-4bde-bb1d-6cd20ac572ee"
      },
      "execution_count": 99,
      "outputs": [
        {
          "output_type": "stream",
          "name": "stdout",
          "text": [
            "the number 20 is even\n"
          ]
        },
        {
          "output_type": "execute_result",
          "data": {
            "text/plain": [
              "['the number 1 is odd',\n",
              " 'the number 2 is even',\n",
              " 'the number 3 is odd',\n",
              " 'the number 4 is even',\n",
              " 'the number 5 is odd',\n",
              " 'the number 6 is even',\n",
              " 'the number 7 is odd',\n",
              " 'the number 8 is even',\n",
              " 'the number 9 is odd',\n",
              " 'the number 10 is even']"
            ]
          },
          "metadata": {},
          "execution_count": 99
        }
      ]
    },
    {
      "cell_type": "code",
      "source": [
        "li=['apple','banana','grapes']\n",
        "r=list(map(lambda x:x.capitalize(),li))\n",
        "print(r)"
      ],
      "metadata": {
        "colab": {
          "base_uri": "https://localhost:8080/"
        },
        "id": "X3C7LnIejaYt",
        "outputId": "99da3fb9-fc3c-4006-c697-a34c161b2676"
      },
      "execution_count": 96,
      "outputs": [
        {
          "output_type": "stream",
          "name": "stdout",
          "text": [
            "['Apple', 'Banana', 'Grapes']\n"
          ]
        }
      ]
    },
    {
      "cell_type": "code",
      "source": [
        "#filter\n",
        "def odd_num(n):\n",
        "  if n%2!=0:\n",
        "    return n\n",
        "li=[2,9,7,86,-5,46]\n",
        "print(list(filter(odd_num,li)))"
      ],
      "metadata": {
        "colab": {
          "base_uri": "https://localhost:8080/"
        },
        "id": "4ihqQEc0jgJF",
        "outputId": "c4b31536-c582-4c4e-c454-df6b11aceec2"
      },
      "execution_count": 95,
      "outputs": [
        {
          "output_type": "stream",
          "name": "stdout",
          "text": [
            "[9, 7, -5]\n"
          ]
        }
      ]
    },
    {
      "cell_type": "code",
      "source": [
        "li=[2,9,7,86,-5,46]\n",
        "print(list(filter(lambda x:x%2==0,li)))"
      ],
      "metadata": {
        "colab": {
          "base_uri": "https://localhost:8080/"
        },
        "id": "BO5kWIM7lCMM",
        "outputId": "fe39be7f-1a4a-47ea-d3b6-c399f0422c0b"
      },
      "execution_count": 94,
      "outputs": [
        {
          "output_type": "stream",
          "name": "stdout",
          "text": [
            "[2, 86, 46]\n"
          ]
        }
      ]
    },
    {
      "cell_type": "code",
      "source": [
        "#MODULES\n",
        "import os\n",
        "os.mkdir(\"hi\")#make directory\n",
        "os.chdir(\"hi\")\n",
        "os.getcwd()\n",
        "os.listdir()\n",
        "os.rmdir(\"/content/hi\")"
      ],
      "metadata": {
        "colab": {
          "base_uri": "https://localhost:8080/",
          "height": 235
        },
        "id": "R7SZwIGRp28w",
        "outputId": "e8ae1cf5-abeb-4e80-c0fc-2bdfdb7daa6c"
      },
      "execution_count": 93,
      "outputs": [
        {
          "output_type": "error",
          "ename": "FileExistsError",
          "evalue": "ignored",
          "traceback": [
            "\u001b[0;31m---------------------------------------------------------------------------\u001b[0m",
            "\u001b[0;31mFileExistsError\u001b[0m                           Traceback (most recent call last)",
            "\u001b[0;32m<ipython-input-93-82210337622a>\u001b[0m in \u001b[0;36m<module>\u001b[0;34m()\u001b[0m\n\u001b[1;32m      1\u001b[0m \u001b[0;31m#MODULES\u001b[0m\u001b[0;34m\u001b[0m\u001b[0;34m\u001b[0m\u001b[0;34m\u001b[0m\u001b[0m\n\u001b[1;32m      2\u001b[0m \u001b[0;32mimport\u001b[0m \u001b[0mos\u001b[0m\u001b[0;34m\u001b[0m\u001b[0;34m\u001b[0m\u001b[0m\n\u001b[0;32m----> 3\u001b[0;31m \u001b[0mos\u001b[0m\u001b[0;34m.\u001b[0m\u001b[0mmkdir\u001b[0m\u001b[0;34m(\u001b[0m\u001b[0;34m\"hi\"\u001b[0m\u001b[0;34m)\u001b[0m\u001b[0;31m#make directory\u001b[0m\u001b[0;34m\u001b[0m\u001b[0;34m\u001b[0m\u001b[0m\n\u001b[0m\u001b[1;32m      4\u001b[0m \u001b[0mos\u001b[0m\u001b[0;34m.\u001b[0m\u001b[0mchdir\u001b[0m\u001b[0;34m(\u001b[0m\u001b[0;34m\"hi\"\u001b[0m\u001b[0;34m)\u001b[0m\u001b[0;34m\u001b[0m\u001b[0;34m\u001b[0m\u001b[0m\n\u001b[1;32m      5\u001b[0m \u001b[0mos\u001b[0m\u001b[0;34m.\u001b[0m\u001b[0mgetcwd\u001b[0m\u001b[0;34m(\u001b[0m\u001b[0;34m)\u001b[0m\u001b[0;34m\u001b[0m\u001b[0;34m\u001b[0m\u001b[0m\n",
            "\u001b[0;31mFileExistsError\u001b[0m: [Errno 17] File exists: 'hi'"
          ]
        }
      ]
    },
    {
      "cell_type": "code",
      "source": [
        "#math module\n",
        "import math as m\n",
        "print(m.pi)\n",
        "print(m.e)\n",
        "print(m.sqrt(4))\n",
        "print(m.factorial(5))\n",
        "print(m.ceil(1.4))\n",
        "print(m.floor(1.4))"
      ],
      "metadata": {
        "colab": {
          "base_uri": "https://localhost:8080/"
        },
        "id": "fEOzqSdFrd-4",
        "outputId": "00f3baa0-e73b-43c9-da79-ca42ff1b4278"
      },
      "execution_count": 92,
      "outputs": [
        {
          "output_type": "stream",
          "name": "stdout",
          "text": [
            "3.141592653589793\n",
            "2.718281828459045\n",
            "2.0\n",
            "120\n",
            "2\n",
            "1\n"
          ]
        }
      ]
    },
    {
      "cell_type": "code",
      "source": [
        "#sys module\n",
        "import sys\n",
        "print(sys.path)\n",
        "print(sys.version)\n",
        "print(sys.maxsize)"
      ],
      "metadata": {
        "colab": {
          "base_uri": "https://localhost:8080/"
        },
        "id": "NII9jgO-sUHQ",
        "outputId": "124e18c9-e7dd-4db1-d07c-c2c9bb39b737"
      },
      "execution_count": 91,
      "outputs": [
        {
          "output_type": "stream",
          "name": "stdout",
          "text": [
            "['', '/content', '/env/python', '/usr/lib/python37.zip', '/usr/lib/python3.7', '/usr/lib/python3.7/lib-dynload', '/usr/local/lib/python3.7/dist-packages', '/usr/lib/python3/dist-packages', '/usr/local/lib/python3.7/dist-packages/IPython/extensions', '/root/.ipython']\n",
            "3.7.13 (default, Apr 24 2022, 01:04:09) \n",
            "[GCC 7.5.0]\n",
            "9223372036854775807\n"
          ]
        }
      ]
    },
    {
      "cell_type": "code",
      "source": [
        "#statistics module\n",
        "import statistics as st\n",
        "print(st.mean([21,29,34]))\n",
        "print(st.median([1,2,3,4,5]))\n",
        "print(st.mode([1,2,3,1,1]))"
      ],
      "metadata": {
        "colab": {
          "base_uri": "https://localhost:8080/"
        },
        "id": "aHAnLpoyskND",
        "outputId": "e8d798d8-4067-413e-c09d-476b71f7256e"
      },
      "execution_count": 90,
      "outputs": [
        {
          "output_type": "stream",
          "name": "stdout",
          "text": [
            "28\n",
            "3\n",
            "1\n"
          ]
        }
      ]
    },
    {
      "cell_type": "code",
      "source": [
        "#time module\n",
        "import time\n",
        "print(time.time())\n",
        "print(time.localtime())\n",
        "print(time.asctime())\n",
        "print(time.ctime())\n",
        "print(time.sleep(1.5))"
      ],
      "metadata": {
        "colab": {
          "base_uri": "https://localhost:8080/"
        },
        "id": "nSl-CWS1tMGs",
        "outputId": "431327e4-b54c-427e-e67e-a400df752cbb"
      },
      "execution_count": 89,
      "outputs": [
        {
          "output_type": "stream",
          "name": "stdout",
          "text": [
            "1655208083.4073043\n",
            "time.struct_time(tm_year=2022, tm_mon=6, tm_mday=14, tm_hour=12, tm_min=1, tm_sec=23, tm_wday=1, tm_yday=165, tm_isdst=0)\n",
            "Tue Jun 14 12:01:23 2022\n",
            "Tue Jun 14 12:01:23 2022\n",
            "None\n"
          ]
        }
      ]
    },
    {
      "cell_type": "code",
      "source": [
        "#random module\n",
        "import random\n",
        "print(random.randrange(1,50))\n",
        "print(random.randint(1,100))\n",
        "print(random.random())"
      ],
      "metadata": {
        "colab": {
          "base_uri": "https://localhost:8080/"
        },
        "id": "Zo38soIxtqKu",
        "outputId": "156b6b19-010c-474d-c588-26149df2559c"
      },
      "execution_count": 88,
      "outputs": [
        {
          "output_type": "stream",
          "name": "stdout",
          "text": [
            "23\n",
            "10\n",
            "0.9100305907596066\n"
          ]
        }
      ]
    },
    {
      "cell_type": "code",
      "source": [
        "#Game using Random module\n",
        "import random\n",
        "num=random.randint(0,5)\n",
        "num1=int(input(\"PREDICT A NUMBER:\"))\n",
        "if num1==num:\n",
        "  print(\"YOU WON\")\n",
        "else:\n",
        "  print(\"YOU LOST\")"
      ],
      "metadata": {
        "colab": {
          "base_uri": "https://localhost:8080/"
        },
        "id": "ddNvd_m3xJyB",
        "outputId": "c05b3784-35d4-4185-ca8d-84ee1581ea4f"
      },
      "execution_count": 87,
      "outputs": [
        {
          "output_type": "stream",
          "name": "stdout",
          "text": [
            "PREDICT A NUMBER:3\n",
            "YOU LOST\n"
          ]
        }
      ]
    },
    {
      "cell_type": "code",
      "source": [
        "#Write a python program that remove items that are multiples of 5 from list:\n",
        "#li=[1,2,5,6,7,10,15,25,65,78,90]\n",
        "#o/p: [1,2,6,7,78]\n",
        "li=[1,2,5,6,7,10,15,25,65,78,90]\n",
        "res=list(filter(lambda x:x%5!=0,li))\n",
        "print(res)\n",
        "\n",
        "\n",
        "#OR\n",
        "li=[1,2,5,6,7,10,15,25,65,78,90]\n",
        "for i in li[:]:\n",
        "  if(i%5==0):\n",
        "    li.remove(i)\n",
        "print(li)"
      ],
      "metadata": {
        "colab": {
          "base_uri": "https://localhost:8080/"
        },
        "id": "pHyz6L3e18Mu",
        "outputId": "cc569ce5-2cb2-4937-f35f-9451424e5d3c"
      },
      "execution_count": 86,
      "outputs": [
        {
          "output_type": "stream",
          "name": "stdout",
          "text": [
            "[1, 2, 6, 7, 78]\n",
            "[1, 2, 6, 7, 78]\n"
          ]
        }
      ]
    },
    {
      "cell_type": "code",
      "source": [
        "#Write a python program that generates desired output from fruits list. Filter out the fruits names that don’t start with ‘A’\n",
        "#Fruit=[“Apple”,”Banana”,”Pear”,”Avacado”,”Orange”,”Amla”]\n",
        "#Output: [“Apple”,”Avacado”,”Amla”]\n",
        "Fruit=['Apple','Banana','Pear','Avacado','Orange','Amla']\n",
        "l=[]\n",
        "for i in Fruit:\n",
        "  if i.startswith('A'):\n",
        "    l.append(i)\n",
        "print(l)\n",
        "\n",
        "fruit=[\"Apple\",\"Banana\",\"Pear\",\"Avacado\",\"Orange\",\"Amla\"]\n",
        "res=list(filter(lambda x:x.startswith('A'),fruit))\n",
        "print(res)"
      ],
      "metadata": {
        "colab": {
          "base_uri": "https://localhost:8080/"
        },
        "id": "1OuUJmEF4zn-",
        "outputId": "c2f6aaa1-4b4d-4ff1-b04e-b840b7064d65"
      },
      "execution_count": 85,
      "outputs": [
        {
          "output_type": "stream",
          "name": "stdout",
          "text": [
            "['Apple', 'Avacado', 'Amla']\n",
            "['Apple', 'Avacado', 'Amla']\n"
          ]
        }
      ]
    },
    {
      "cell_type": "code",
      "source": [
        "dir(list)"
      ],
      "metadata": {
        "colab": {
          "base_uri": "https://localhost:8080/"
        },
        "id": "QWmaB8Nh6lsR",
        "outputId": "8dc92d06-8f83-4361-f132-fb67a2a3b77b"
      },
      "execution_count": 84,
      "outputs": [
        {
          "output_type": "execute_result",
          "data": {
            "text/plain": [
              "['__add__',\n",
              " '__class__',\n",
              " '__contains__',\n",
              " '__delattr__',\n",
              " '__delitem__',\n",
              " '__dir__',\n",
              " '__doc__',\n",
              " '__eq__',\n",
              " '__format__',\n",
              " '__ge__',\n",
              " '__getattribute__',\n",
              " '__getitem__',\n",
              " '__gt__',\n",
              " '__hash__',\n",
              " '__iadd__',\n",
              " '__imul__',\n",
              " '__init__',\n",
              " '__init_subclass__',\n",
              " '__iter__',\n",
              " '__le__',\n",
              " '__len__',\n",
              " '__lt__',\n",
              " '__mul__',\n",
              " '__ne__',\n",
              " '__new__',\n",
              " '__reduce__',\n",
              " '__reduce_ex__',\n",
              " '__repr__',\n",
              " '__reversed__',\n",
              " '__rmul__',\n",
              " '__setattr__',\n",
              " '__setitem__',\n",
              " '__sizeof__',\n",
              " '__str__',\n",
              " '__subclasshook__',\n",
              " 'append',\n",
              " 'clear',\n",
              " 'copy',\n",
              " 'count',\n",
              " 'extend',\n",
              " 'index',\n",
              " 'insert',\n",
              " 'pop',\n",
              " 'remove',\n",
              " 'reverse',\n",
              " 'sort']"
            ]
          },
          "metadata": {},
          "execution_count": 84
        }
      ]
    },
    {
      "cell_type": "code",
      "source": [
        "#Mssg=”Welcome to gradstellar bootcamp”\n",
        "#X=”number of occurrences of ‘o’ in mssg”\n",
        "#Y=”number of occurrences of ‘e’ in mssg”\n",
        "#Compute (X+Y)2\n",
        "Mssg='Welcome to gradstellar bootcamp'\n",
        "x=Mssg.count('o')\n",
        "y=Mssg.count('e')\n",
        "print(x,y)\n",
        "print((x+y)**2)"
      ],
      "metadata": {
        "colab": {
          "base_uri": "https://localhost:8080/"
        },
        "id": "vbPid1j96uDe",
        "outputId": "ac1cdaeb-b1e6-4574-9d5a-2f764e1169d8"
      },
      "execution_count": 83,
      "outputs": [
        {
          "output_type": "stream",
          "name": "stdout",
          "text": [
            "4 3\n",
            "49\n"
          ]
        }
      ]
    },
    {
      "cell_type": "code",
      "source": [
        "#Write python program that filters a list by removing the elements that not start with vowel.\n",
        "#I/P: [‘apple’,’orange’,’grapes’,’ball’,’bat’,’umbrella’]\n",
        "#O/P: [‘apple’,’orange’,’umbrella’]\n",
        "s=['apple','orange','grapes','ball','bat','umbrella']\n",
        "res=list(filter(lambda x:x[0] in ['a','e','i','o','u'] ,s))\n",
        "print(res)"
      ],
      "metadata": {
        "colab": {
          "base_uri": "https://localhost:8080/"
        },
        "id": "Nn5c2eJA86e0",
        "outputId": "16f1818f-10a7-408d-c933-50c97da46b3f"
      },
      "execution_count": 82,
      "outputs": [
        {
          "output_type": "stream",
          "name": "stdout",
          "text": [
            "['apple', 'orange', 'umbrella']\n"
          ]
        }
      ]
    },
    {
      "cell_type": "code",
      "source": [
        "#Write a python program that displays unique element in a given list using function\n",
        "#Li=[56,78,32,45,45,45,19,20]\n",
        "#O/P: [56,78,32,45,19,20]\n",
        "Li=[56,78,32,45,45,45,19,20]\n",
        "Li=set(Li)\n",
        "print(Li)"
      ],
      "metadata": {
        "colab": {
          "base_uri": "https://localhost:8080/"
        },
        "id": "IsvB-hH19-jb",
        "outputId": "afe1f5db-6da4-420c-e591-00ea09f98a05"
      },
      "execution_count": 81,
      "outputs": [
        {
          "output_type": "stream",
          "name": "stdout",
          "text": [
            "{32, 45, 78, 19, 20, 56}\n"
          ]
        }
      ]
    }
  ]
}