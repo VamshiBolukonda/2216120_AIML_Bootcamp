{
  "nbformat": 4,
  "nbformat_minor": 0,
  "metadata": {
    "colab": {
      "name": "Grad-Day2.ipynb",
      "provenance": [],
      "authorship_tag": "ABX9TyNscBOMvZhIVFoEzz5xDML/",
      "include_colab_link": true
    },
    "kernelspec": {
      "name": "python3",
      "display_name": "Python 3"
    },
    "language_info": {
      "name": "python"
    }
  },
  "cells": [
    {
      "cell_type": "markdown",
      "metadata": {
        "id": "view-in-github",
        "colab_type": "text"
      },
      "source": [
        "<a href=\"https://colab.research.google.com/github/VamshiBolukonda/2216120_AIML_Bootcamp/blob/main/Grad_Day2.ipynb\" target=\"_parent\"><img src=\"https://colab.research.google.com/assets/colab-badge.svg\" alt=\"Open In Colab\"/></a>"
      ]
    },
    {
      "cell_type": "code",
      "execution_count": null,
      "metadata": {
        "colab": {
          "base_uri": "https://localhost:8080/"
        },
        "id": "IkB0ipAus1Fb",
        "outputId": "5243b38a-68a6-48f8-83b7-d60e4ecedbf1"
      },
      "outputs": [
        {
          "output_type": "stream",
          "name": "stdout",
          "text": [
            "[9, 17, 7]\n",
            "[8, 13, 17]\n",
            "[4, 10, 7]\n"
          ]
        }
      ],
      "source": [
        "#nested loops\n",
        "#Addition of Matrices\n",
        "x=[[5,8,1],\n",
        "   [7,4,9],\n",
        "   [2,6,1]]\n",
        "y=[[4,9,6],[1,9,8],[2,4,6]]\n",
        "res=[[0,0,0],[0,0,0],[0,0,0]]\n",
        "for i in range(len(x)):#iterate through rows #no. of rows=len(x)=3\n",
        "  for j in range(len(x[0])):#iterate through columns #no. of columns=len(x[0])=3\n",
        "    res[i][j]=x[i][j]+y[i][j]\n",
        "for p in res:\n",
        "    print(p)\n"
      ]
    },
    {
      "cell_type": "code",
      "source": [
        "#nested loops\n",
        "#Subtraction of Matrices\n",
        "x=[[5,8,1],\n",
        "   [7,4,9],\n",
        "   [2,6,1]]\n",
        "y=[[4,9,6],[1,9,8],[2,4,6]]\n",
        "res=[[0,0,0],[0,0,0],[0,0,0]]\n",
        "for i in range(len(x)):#iterate through rows #no. of rows=len(x)=3\n",
        "  for j in range(len(x[0])):#iterate through columns #no. of columns=len(x[0])=3\n",
        "    res[i][j]=x[i][j]-y[i][j]\n",
        "for p in res:\n",
        "    print(p)\n"
      ],
      "metadata": {
        "colab": {
          "base_uri": "https://localhost:8080/"
        },
        "id": "dKwQcJw_wisD",
        "outputId": "aa75deea-c765-482a-86c0-54d623a90165"
      },
      "execution_count": null,
      "outputs": [
        {
          "output_type": "stream",
          "name": "stdout",
          "text": [
            "[1, -1, -5]\n",
            "[6, -5, 1]\n",
            "[0, 2, -5]\n"
          ]
        }
      ]
    },
    {
      "cell_type": "code",
      "source": [
        "#nested loops\n",
        "#Multiplication of Matrices\n",
        "x=[[5,8,1],\n",
        "   [7,4,9],\n",
        "   [2,6,1]]\n",
        "y=[[4,9,6],[1,9,8],[2,4,6]]\n",
        "res=[[0,0,0],[0,0,0],[0,0,0]]\n",
        "for i in range(len(x)):#iterate through rows #no. of rows=len(x)=3\n",
        "  for j in range(len(x[0])):#iterate through columns #no. of columns=len(x[0])=3\n",
        "    res[i][j]=x[i][j]+y[i][j]\n",
        "for p in res:\n",
        "    print(p)\n"
      ],
      "metadata": {
        "id": "mr4ZAsMzwp0a"
      },
      "execution_count": null,
      "outputs": []
    },
    {
      "cell_type": "code",
      "source": [
        "#Printing Tables\n",
        "n=int(input(\"Enter till where you want to print:\"))\n",
        "i=1\n",
        "while(i<=n):\n",
        "  j=1\n",
        "  while(j<=10):\n",
        "    print(f\"{i}*{j}={i*j}\")#rawstring\n",
        "    j=j+1\n",
        "  print(\"---------------\")\n",
        "  i=i+1"
      ],
      "metadata": {
        "colab": {
          "base_uri": "https://localhost:8080/"
        },
        "id": "RXVxI1vnucDI",
        "outputId": "0bf93944-8469-419b-c7e2-f4da63064b98"
      },
      "execution_count": null,
      "outputs": [
        {
          "output_type": "stream",
          "name": "stdout",
          "text": [
            "Enter till where you want to print:5\n",
            "1*1=1\n",
            "1*2=2\n",
            "1*3=3\n",
            "1*4=4\n",
            "1*5=5\n",
            "1*6=6\n",
            "1*7=7\n",
            "1*8=8\n",
            "1*9=9\n",
            "1*10=10\n",
            "---------------\n",
            "2*1=2\n",
            "2*2=4\n",
            "2*3=6\n",
            "2*4=8\n",
            "2*5=10\n",
            "2*6=12\n",
            "2*7=14\n",
            "2*8=16\n",
            "2*9=18\n",
            "2*10=20\n",
            "---------------\n",
            "3*1=3\n",
            "3*2=6\n",
            "3*3=9\n",
            "3*4=12\n",
            "3*5=15\n",
            "3*6=18\n",
            "3*7=21\n",
            "3*8=24\n",
            "3*9=27\n",
            "3*10=30\n",
            "---------------\n",
            "4*1=4\n",
            "4*2=8\n",
            "4*3=12\n",
            "4*4=16\n",
            "4*5=20\n",
            "4*6=24\n",
            "4*7=28\n",
            "4*8=32\n",
            "4*9=36\n",
            "4*10=40\n",
            "---------------\n",
            "5*1=5\n",
            "5*2=10\n",
            "5*3=15\n",
            "5*4=20\n",
            "5*5=25\n",
            "5*6=30\n",
            "5*7=35\n",
            "5*8=40\n",
            "5*9=45\n",
            "5*10=50\n",
            "---------------\n"
          ]
        }
      ]
    },
    {
      "cell_type": "code",
      "source": [
        "#Control Statements\n",
        "#break\n",
        "for l in 'python':\n",
        "  if l=='h':\n",
        "    break\n",
        "  print('Current Letter is:',l)"
      ],
      "metadata": {
        "colab": {
          "base_uri": "https://localhost:8080/"
        },
        "id": "xsmn3SLw3NrN",
        "outputId": "668d56d1-c6e8-4ace-c29f-4071af3d8fc6"
      },
      "execution_count": null,
      "outputs": [
        {
          "output_type": "stream",
          "name": "stdout",
          "text": [
            "Current Letter is: p\n",
            "Current Letter is: y\n",
            "Current Letter is: t\n"
          ]
        }
      ]
    },
    {
      "cell_type": "code",
      "source": [
        "s=input(\"Enter a string:\")\n",
        "if(s==s[::-1]):\n",
        "  print(s,'is a Pallindrome')\n",
        "else:\n",
        "  print(s,'is not a Pallindrome')"
      ],
      "metadata": {
        "colab": {
          "base_uri": "https://localhost:8080/"
        },
        "id": "dCy_4Nw75Mh9",
        "outputId": "a7f52bcf-fcd2-4998-8dfb-acdc152ca8ca"
      },
      "execution_count": null,
      "outputs": [
        {
          "output_type": "stream",
          "name": "stdout",
          "text": [
            "Enter a string:hi\n",
            "hi is not a Pallindrome\n"
          ]
        }
      ]
    },
    {
      "cell_type": "code",
      "source": [
        "l=[]\n",
        "for i in range(1,100):\n",
        "  if(i%11==0):\n",
        "    l.append(i)\n",
        "print(l)"
      ],
      "metadata": {
        "colab": {
          "base_uri": "https://localhost:8080/"
        },
        "id": "ZHsxOqj8671x",
        "outputId": "8b3ed5ef-0221-4a44-86d6-df1a6a5c681a"
      },
      "execution_count": null,
      "outputs": [
        {
          "output_type": "stream",
          "name": "stdout",
          "text": [
            "[11, 22, 33, 44, 55, 66, 77, 88, 99]\n"
          ]
        }
      ]
    },
    {
      "cell_type": "code",
      "source": [
        "for i in range(1,100):\n",
        "  str1=str(i)\n",
        "  if(str1==str1[::-1]):\n",
        "    print(i,\"is Pallindrome\")"
      ],
      "metadata": {
        "colab": {
          "base_uri": "https://localhost:8080/"
        },
        "id": "UqIPfvc089yF",
        "outputId": "efc64072-21c6-4c6a-8236-01d47c5952b7"
      },
      "execution_count": null,
      "outputs": [
        {
          "output_type": "stream",
          "name": "stdout",
          "text": [
            "1 is Pallindrome\n",
            "2 is Pallindrome\n",
            "3 is Pallindrome\n",
            "4 is Pallindrome\n",
            "5 is Pallindrome\n",
            "6 is Pallindrome\n",
            "7 is Pallindrome\n",
            "8 is Pallindrome\n",
            "9 is Pallindrome\n",
            "11 is Pallindrome\n",
            "22 is Pallindrome\n",
            "33 is Pallindrome\n",
            "44 is Pallindrome\n",
            "55 is Pallindrome\n",
            "66 is Pallindrome\n",
            "77 is Pallindrome\n",
            "88 is Pallindrome\n",
            "99 is Pallindrome\n"
          ]
        }
      ]
    },
    {
      "cell_type": "code",
      "source": [
        "l=[10,15,20,89,76,65,26,86,68,78]\n",
        "e=[]\n",
        "for i in l:\n",
        "  if (i%2==0):\n",
        "    e.append(i)\n",
        "print(e)"
      ],
      "metadata": {
        "colab": {
          "base_uri": "https://localhost:8080/"
        },
        "id": "zBGjBnDB9-wr",
        "outputId": "746e1d8a-1a49-4e88-8a9a-c78b8d823ffc"
      },
      "execution_count": null,
      "outputs": [
        {
          "output_type": "stream",
          "name": "stdout",
          "text": [
            "[10, 20, 76, 26, 86, 68, 78]\n"
          ]
        }
      ]
    },
    {
      "cell_type": "code",
      "source": [
        "#Write a python program that generates desired output i.e, from countries list select out the country names that contain string “and”\n",
        "#Countries_list=[“Finland”,”Germany”,”Sweden”,”Ireland”,”Turkey”]\n",
        "#Output: [“Finland”,”Ireland”]\n",
        "Countries_list=['Finland','Germany','Sweden','Ireland','Turkey']\n",
        "l=[]\n",
        "for i in Countries_list:\n",
        "  if(\"and\" in i):\n",
        "    l.append(i)\n",
        "print(l)"
      ],
      "metadata": {
        "colab": {
          "base_uri": "https://localhost:8080/"
        },
        "id": "b-WF2ivS-9eX",
        "outputId": "1c37a447-9553-4341-cc50-67adaa7b4536"
      },
      "execution_count": null,
      "outputs": [
        {
          "output_type": "stream",
          "name": "stdout",
          "text": [
            "['Finland', 'Ireland']\n"
          ]
        }
      ]
    },
    {
      "cell_type": "code",
      "source": [
        "#Write a python program that print respective grades of student:\n",
        "#Grade – Outstanding  for marks>=90\n",
        "#Grade A+ for marks >=80, <90\n",
        "#Grade A for marks >=70, <80\n",
        "#Grade B for marks >=60 and <70\n",
        "#<60 Grade C\n",
        "marks=int(input(\"Enter Marks:\"))\n",
        "if(marks>=90):\n",
        "  print(\"Outstanding\")\n",
        "elif(marks<90 and marks>=80):\n",
        "  print(\"A+\")\n",
        "elif(marks<80 and marks>=70):\n",
        "  print(\"A\")\n",
        "elif(marks<70 and marks>=60):\n",
        "  print(\"B\")\n",
        "else:\n",
        "  print(\"C\")"
      ],
      "metadata": {
        "colab": {
          "base_uri": "https://localhost:8080/"
        },
        "id": "_AqAQB7WBhX6",
        "outputId": "3cacc66c-a84a-4784-f29d-43a665201609"
      },
      "execution_count": null,
      "outputs": [
        {
          "output_type": "stream",
          "name": "stdout",
          "text": [
            "Enter Marks:91\n",
            "Outstanding\n"
          ]
        }
      ]
    },
    {
      "cell_type": "code",
      "source": [
        "#Create a list with name state list with 5 elements\n",
        "#State_list = [“Delhi”,”Telangana”,”Goa”,”AP”,”Kerala”]\n",
        "#Write a python program that extract first and last characters of each item and print in desired format.\n",
        "#Input: [“Delhi”,”Telangana”,”Goa”,”AP”,”Kerala”]\n",
        "#Output: dItAgAaOkA\n",
        "State_list=['Delhi','Telangana','Goa','AP','Kerala']\n",
        "l=[]\n",
        "for i in State_list:\n",
        "  l.append(i[0])\n",
        "  l.append(i[len(i)-1])\n",
        "print(l)\n",
        "str=\"\".join(l)\n",
        "print(str)\n",
        "str=str.swapcase()\n",
        "print(str)\n",
        "\n"
      ],
      "metadata": {
        "colab": {
          "base_uri": "https://localhost:8080/"
        },
        "id": "YpgQe3zGE90F",
        "outputId": "ccecb308-2e19-4a55-b620-fbbfe4e96e8a"
      },
      "execution_count": null,
      "outputs": [
        {
          "output_type": "stream",
          "name": "stdout",
          "text": [
            "['D', 'i', 'T', 'a', 'G', 'a', 'A', 'P', 'K', 'a']\n",
            "DiTaGaAPKa\n",
            "dItAgAapkA\n"
          ]
        }
      ]
    },
    {
      "cell_type": "code",
      "source": [
        "State_list=['Delhi','Telangana','Goa','AP','Kerala']\n",
        "str=\"\"\n",
        "for i in State_list:\n",
        "  str+=i[0].lower()+i[-1].upper()\n",
        "print(str)"
      ],
      "metadata": {
        "colab": {
          "base_uri": "https://localhost:8080/"
        },
        "id": "tIIFrMdiHdTi",
        "outputId": "90cc7c9e-84d7-4cca-b15d-df3a26e80d23"
      },
      "execution_count": null,
      "outputs": [
        {
          "output_type": "stream",
          "name": "stdout",
          "text": [
            "dItAgAaPkA\n"
          ]
        }
      ]
    },
    {
      "cell_type": "code",
      "source": [
        "#higher order functions\n",
        "def shout(text):\n",
        "  return text.upper()\n",
        "def whisper(text):\n",
        "  return text.lower()\n",
        "def explain(func):\n",
        "  greet=func(\"I am high order function\")\n",
        "  print(greet)\n",
        "explain(shout)\n",
        "explain(whisper)"
      ],
      "metadata": {
        "id": "cCnvRD-TG7HC",
        "colab": {
          "base_uri": "https://localhost:8080/"
        },
        "outputId": "0dddea01-40b9-4ef4-845e-dbe15f1827a9"
      },
      "execution_count": 44,
      "outputs": [
        {
          "output_type": "stream",
          "name": "stdout",
          "text": [
            "I AM HIGH ORDER FUNCTION\n",
            "i am high order function\n"
          ]
        }
      ]
    },
    {
      "cell_type": "code",
      "source": [
        "#lambda function\n",
        "def incr(x):\n",
        "  x=x+1\n",
        "  return x\n",
        "print(incr(4))\n",
        "\n",
        "print((lambda x:x+1)(4))\n",
        "\n",
        "res=lambda x:x+1\n",
        "print(res(4))"
      ],
      "metadata": {
        "colab": {
          "base_uri": "https://localhost:8080/"
        },
        "id": "yf39xOXegAMc",
        "outputId": "3b2ea3e4-5999-45e8-e904-11c7df3ab5d6"
      },
      "execution_count": 45,
      "outputs": [
        {
          "output_type": "stream",
          "name": "stdout",
          "text": [
            "5\n",
            "5\n",
            "5\n"
          ]
        }
      ]
    },
    {
      "cell_type": "code",
      "source": [
        "def eor(num):\n",
        "  if num%2==0:\n",
        "    return \"the number {} is even\".format(num)\n",
        "  else:\n",
        "    return \"the number {} is odd\".format(num)\n",
        "eor(20)"
      ],
      "metadata": {
        "colab": {
          "base_uri": "https://localhost:8080/",
          "height": 35
        },
        "id": "YL909OImiiFq",
        "outputId": "53967010-f099-4d81-ca82-5a8d760a9008"
      },
      "execution_count": 46,
      "outputs": [
        {
          "output_type": "execute_result",
          "data": {
            "text/plain": [
              "'the number 20 is even'"
            ],
            "application/vnd.google.colaboratory.intrinsic+json": {
              "type": "string"
            }
          },
          "metadata": {},
          "execution_count": 46
        }
      ]
    },
    {
      "cell_type": "code",
      "source": [
        "li=['apple','banana','grapes']\n",
        "r=list(map(lambda x:x.capitalize(),li))\n",
        "print(r)"
      ],
      "metadata": {
        "colab": {
          "base_uri": "https://localhost:8080/"
        },
        "id": "X3C7LnIejaYt",
        "outputId": "7e08ba4d-48e6-4e71-acfc-7f54ded3bd78"
      },
      "execution_count": 47,
      "outputs": [
        {
          "output_type": "stream",
          "name": "stdout",
          "text": [
            "['Apple', 'Banana', 'Grapes']\n"
          ]
        }
      ]
    },
    {
      "cell_type": "code",
      "source": [
        "#filter\n",
        "def odd_num(n):\n",
        "  if n%2!=0:\n",
        "    return n\n",
        "li=[2,9,7,86,-5,46]\n",
        "print(list(filter(odd_num,li)))"
      ],
      "metadata": {
        "colab": {
          "base_uri": "https://localhost:8080/"
        },
        "id": "4ihqQEc0jgJF",
        "outputId": "5c4ed20c-34f7-4b99-a759-a6fe42bdd368"
      },
      "execution_count": 48,
      "outputs": [
        {
          "output_type": "stream",
          "name": "stdout",
          "text": [
            "[9, 7, -5]\n"
          ]
        }
      ]
    },
    {
      "cell_type": "code",
      "source": [
        "li=[2,9,7,86,-5,46]\n",
        "print(list(filter(lambda x:x%2==0,li)))"
      ],
      "metadata": {
        "colab": {
          "base_uri": "https://localhost:8080/"
        },
        "id": "BO5kWIM7lCMM",
        "outputId": "0b85510a-e42e-49fb-f1d1-e4500a964604"
      },
      "execution_count": 49,
      "outputs": [
        {
          "output_type": "stream",
          "name": "stdout",
          "text": [
            "[2, 86, 46]\n"
          ]
        }
      ]
    }
  ]
}